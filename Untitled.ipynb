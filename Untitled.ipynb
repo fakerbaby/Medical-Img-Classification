{
 "cells": [
  {
   "cell_type": "code",
   "execution_count": 13,
   "id": "f336cb26-91a4-472b-b993-5b7281368a27",
   "metadata": {},
   "outputs": [],
   "source": [
    "import os\n",
    "import shutil\n",
    "from pathlib import Path\n",
    "import re\n",
    "\n",
    "import torch\n",
    "import pandas as pd\n",
    "import numpy as np\n",
    "\n",
    "path = \"dataset/\""
   ]
  },
  {
   "cell_type": "code",
   "execution_count": 22,
   "id": "8498a7d4-8166-4bb4-be07-80d93b841f62",
   "metadata": {},
   "outputs": [
    {
     "name": "stdout",
     "output_type": "stream",
     "text": [
      "014\n",
      "023\n",
      "020\n",
      "021\n",
      "018\n",
      "007           601-670\n",
      "015\n",
      "011\n",
      "016\n",
      "009\n",
      "006\n",
      "012\n",
      "005\n",
      "003\n",
      "022\n",
      "004\n",
      "019\n",
      "001       A00012\n",
      "024\n",
      "002\n",
      "008\n",
      "017\n",
      "013\n",
      "010\n"
     ]
    }
   ],
   "source": [
    "entries = os.listdir('Medical-Img-Classification/dataset')\n",
    "for entry in entries:\n",
    "    print(entry)"
   ]
  },
  {
   "cell_type": "code",
   "execution_count": 6,
   "id": "e1c4993b",
   "metadata": {},
   "outputs": [
    {
     "name": "stdout",
     "output_type": "stream",
     "text": [
      "/root/git-repository/Medical-Img-Classification/__file__\n"
     ]
    }
   ],
   "source": [
    "print(os.path.abspath(\"__file__\"))"
   ]
  },
  {
   "cell_type": "code",
   "execution_count": 11,
   "id": "f470419f-4144-4c26-b727-289d7f1b6b2b",
   "metadata": {},
   "outputs": [
    {
     "name": "stdout",
     "output_type": "stream",
     "text": [
      "/root/git-repository/Medical-Img-Classification\n",
      "/root/git-repository/Medical-Img-Classification\n"
     ]
    }
   ],
   "source": [
    "print(os.getcwd())\n",
    "print(sys.path[0])\n",
    "\n"
   ]
  },
  {
   "cell_type": "code",
   "execution_count": 14,
   "id": "a923e4a4-f189-48d0-b982-c3a1357dc6a6",
   "metadata": {},
   "outputs": [
    {
     "name": "stdout",
     "output_type": "stream",
     "text": [
      "dirnum 24\n"
     ]
    }
   ],
   "source": [
    "print('dirnum', len([lists for lists in os.listdir(path) if os.path.isdir(os.path.join(path,lists))]))\n"
   ]
  },
  {
   "cell_type": "code",
   "execution_count": null,
   "id": "f05248c4",
   "metadata": {},
   "outputs": [],
   "source": []
  }
 ],
 "metadata": {
  "kernelspec": {
   "display_name": "Python 3 (ipykernel)",
   "language": "python",
   "name": "python3"
  },
  "language_info": {
   "codemirror_mode": {
    "name": "ipython",
    "version": 3
   },
   "file_extension": ".py",
   "mimetype": "text/x-python",
   "name": "python",
   "nbconvert_exporter": "python",
   "pygments_lexer": "ipython3",
   "version": "3.7.10"
  }
 },
 "nbformat": 4,
 "nbformat_minor": 5
}
